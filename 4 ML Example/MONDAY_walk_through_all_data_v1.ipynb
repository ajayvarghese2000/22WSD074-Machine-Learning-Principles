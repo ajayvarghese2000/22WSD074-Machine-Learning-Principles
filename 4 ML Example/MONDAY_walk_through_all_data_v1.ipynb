{
 "cells": [
  {
   "attachments": {},
   "cell_type": "markdown",
   "id": "88378a9d",
   "metadata": {},
   "source": [
    "# Chapter 1 - Walk-through example\n",
    "\n",
    "All code and datasets from the O'Reilly Book can be downloaded here:\n",
    "[https://github.com/ageron/handson-ml2](https://github.com/ageron/handson-ml2)\n",
    "\n",
    "## Step 1: Import necessary Python libraries and ML Frameworks\n",
    "Python's main scientific libraries are NumPy, pandas, and Matplotlib.\n",
    "\n",
    "- **NumPy** (Short for Numerical Python)\n",
    "Numpy is used for working with arrays. [For more info visit NumPy tutorials](https://www.w3schools.com/python/numpy/default.asp)\n",
    "- **pandas** is used to analyse data. [For more info visit the pandas site](https://pandas.pydata.org/docs/user_guide/index.html)\n",
    "- **Matplotlib** is a graph plotting library and helps with data visualisation. [For more info visit Matplotlib tutorials](https://www.w3schools.com/python/matplotlib_intro.asp)\n",
    "\n",
    "- **[Scikit-Learn](https://scikit-learn.org)** is a production ready Python framework (built on NumPy, SciPy and Matplotlib) that implements many ML algorithms."
   ]
  },
  {
   "cell_type": "code",
   "execution_count": 2,
   "id": "d8dec978",
   "metadata": {},
   "outputs": [],
   "source": [
    "# import Python libraries\n",
    "import numpy as np\n",
    "import pandas as pd\n",
    "import matplotlib.pyplot as plt\n",
    "\n",
    "# Import the Scikit-Learn Framework NB: ≥0.20 is required\n",
    "import sklearn\n",
    "# Python's assert statement is included to return an error to make this easy to debug\n",
    "assert sklearn.__version__ >= \"0.20\", 'You need version 0.2 or greater of Scikit-Learn'"
   ]
  },
  {
   "attachments": {},
   "cell_type": "markdown",
   "id": "e807f6da",
   "metadata": {},
   "source": [
    "#### Import two of Scikit-Learn's algorithms for comparison\n",
    "* MODEL BASED LEARNING - The Linear model contains a set of methods intended for regression in which the target value is expected to be a linear combination of the features.\n",
    "For more info visit [Scikit-Learn > Linear Models](https://scikit-learn.org/stable/modules/linear_model.html)\n",
    "* INSTANCE-BASED LEARNING - The K-Nearest Neighbours - Supervised neighbors-based learning comes in two flavors: classification for data with discrete labels, and regression for data with continuous labels.\n",
    "For more info visit [Scikit-Learn > Nearest Neighbors](https://scikit-learn.org/stable/modules/neighbors.html)"
   ]
  },
  {
   "cell_type": "code",
   "execution_count": 3,
   "id": "934b2a41",
   "metadata": {},
   "outputs": [],
   "source": [
    "# Import the Scikit-Learn models that you intend to use\n",
    "import sklearn.linear_model\n",
    "import sklearn.neighbors"
   ]
  },
  {
   "attachments": {},
   "cell_type": "markdown",
   "id": "dfc28b02",
   "metadata": {},
   "source": [
    "---\n",
    "## Step 2: Create any functions that you will use throughout your application\n",
    "This function merges the OECD's Better life data and the IMF's GDP per capita data.\n",
    "Click here for more information on [Python functions](https://www.w3schools.com/python/python_functions.asp)"
   ]
  },
  {
   "cell_type": "code",
   "execution_count": 4,
   "id": "68f5e132",
   "metadata": {},
   "outputs": [],
   "source": [
    "# This function merges the OECD's life satisfaction data and the IMF's GDP per capita data.\n",
    "def prepare_country_stats(oecd_bli, gdp_per_capita, feature):\n",
    "    oecd_bli = oecd_bli[oecd_bli[\"INEQUALITY\"]==\"TOT\"]\n",
    "    oecd_bli = oecd_bli.pivot(index=\"Country\", columns=\"Indicator\", values=\"Value\")\n",
    "    gdp_per_capita.rename(columns={\"2015\": \"GDP per capita\"}, inplace=True)\n",
    "    gdp_per_capita.set_index(\"Country\", inplace=True)\n",
    "    full_country_stats = pd.merge(left=oecd_bli, right=gdp_per_capita,\n",
    "                                  left_index=True, right_index=True)\n",
    "    full_country_stats.sort_values(by=\"GDP per capita\", inplace=True)\n",
    "    remove_indices = [0, 1, 6, 8, 33, 34, 35]\n",
    "    keep_indices = list(set(range(36)) - set(remove_indices))\n",
    "    return full_country_stats[[\"GDP per capita\", feature]].iloc[keep_indices]"
   ]
  },
  {
   "attachments": {},
   "cell_type": "markdown",
   "id": "2f029c58",
   "metadata": {},
   "source": [
    "---\n",
    "## Step 3: Download the data\n",
    "Download the OECD's Better Life Index data and the IMF's stats about gross domestic product (GDP) per capita."
   ]
  },
  {
   "cell_type": "code",
   "execution_count": 5,
   "id": "3918e687",
   "metadata": {},
   "outputs": [
    {
     "name": "stdout",
     "output_type": "stream",
     "text": [
      "Downloading oecd_bli_2015.csv\n",
      "Downloading gdp_per_capita.csv\n"
     ]
    }
   ],
   "source": [
    "# os is the Python module for working with the operating system\n",
    "# Set 'datapath' so that the datasets are automatically downloaded to a subfolder 'lifesat'\n",
    "import os\n",
    "datapath = os.path.join(\"datasets\", \"lifesat\", \"\")\n",
    "\n",
    "# urllib is Python's URL handling module\n",
    "import urllib.request\n",
    "\n",
    "DOWNLOAD_ROOT = \"https://raw.githubusercontent.com/ageron/handson-ml2/master/\"\n",
    "os.makedirs(datapath, exist_ok=True)\n",
    "for filename in (\"oecd_bli_2015.csv\", \"gdp_per_capita.csv\"):\n",
    "    print(\"Downloading\", filename)\n",
    "    url = DOWNLOAD_ROOT + \"datasets/lifesat/\" + filename\n",
    "    urllib.request.urlretrieve(url, datapath + filename)"
   ]
  },
  {
   "attachments": {},
   "cell_type": "markdown",
   "id": "a410cb35",
   "metadata": {},
   "source": [
    "---\n",
    "## Step 4: Load the data\n",
    "Load the data in a Dataframe using pandas [read_CSV](https://pandas.pydata.org/docs/reference/api/pandas.read_csv.html?highlight=read_csv#) function."
   ]
  },
  {
   "cell_type": "code",
   "execution_count": 6,
   "id": "a2a2fe50",
   "metadata": {},
   "outputs": [
    {
     "data": {
      "text/html": [
       "<div>\n",
       "<style scoped>\n",
       "    .dataframe tbody tr th:only-of-type {\n",
       "        vertical-align: middle;\n",
       "    }\n",
       "\n",
       "    .dataframe tbody tr th {\n",
       "        vertical-align: top;\n",
       "    }\n",
       "\n",
       "    .dataframe thead th {\n",
       "        text-align: right;\n",
       "    }\n",
       "</style>\n",
       "<table border=\"1\" class=\"dataframe\">\n",
       "  <thead>\n",
       "    <tr style=\"text-align: right;\">\n",
       "      <th></th>\n",
       "      <th>LOCATION</th>\n",
       "      <th>Country</th>\n",
       "      <th>INDICATOR</th>\n",
       "      <th>Indicator</th>\n",
       "      <th>MEASURE</th>\n",
       "      <th>Measure</th>\n",
       "      <th>INEQUALITY</th>\n",
       "      <th>Inequality</th>\n",
       "      <th>Unit Code</th>\n",
       "      <th>Unit</th>\n",
       "      <th>PowerCode Code</th>\n",
       "      <th>PowerCode</th>\n",
       "      <th>Reference Period Code</th>\n",
       "      <th>Reference Period</th>\n",
       "      <th>Value</th>\n",
       "      <th>Flag Codes</th>\n",
       "      <th>Flags</th>\n",
       "    </tr>\n",
       "  </thead>\n",
       "  <tbody>\n",
       "    <tr>\n",
       "      <th>0</th>\n",
       "      <td>AUS</td>\n",
       "      <td>Australia</td>\n",
       "      <td>HO_BASE</td>\n",
       "      <td>Dwellings without basic facilities</td>\n",
       "      <td>L</td>\n",
       "      <td>Value</td>\n",
       "      <td>TOT</td>\n",
       "      <td>Total</td>\n",
       "      <td>PC</td>\n",
       "      <td>Percentage</td>\n",
       "      <td>0</td>\n",
       "      <td>units</td>\n",
       "      <td>NaN</td>\n",
       "      <td>NaN</td>\n",
       "      <td>1.1</td>\n",
       "      <td>E</td>\n",
       "      <td>Estimated value</td>\n",
       "    </tr>\n",
       "    <tr>\n",
       "      <th>1</th>\n",
       "      <td>AUT</td>\n",
       "      <td>Austria</td>\n",
       "      <td>HO_BASE</td>\n",
       "      <td>Dwellings without basic facilities</td>\n",
       "      <td>L</td>\n",
       "      <td>Value</td>\n",
       "      <td>TOT</td>\n",
       "      <td>Total</td>\n",
       "      <td>PC</td>\n",
       "      <td>Percentage</td>\n",
       "      <td>0</td>\n",
       "      <td>units</td>\n",
       "      <td>NaN</td>\n",
       "      <td>NaN</td>\n",
       "      <td>1.0</td>\n",
       "      <td>NaN</td>\n",
       "      <td>NaN</td>\n",
       "    </tr>\n",
       "    <tr>\n",
       "      <th>2</th>\n",
       "      <td>BEL</td>\n",
       "      <td>Belgium</td>\n",
       "      <td>HO_BASE</td>\n",
       "      <td>Dwellings without basic facilities</td>\n",
       "      <td>L</td>\n",
       "      <td>Value</td>\n",
       "      <td>TOT</td>\n",
       "      <td>Total</td>\n",
       "      <td>PC</td>\n",
       "      <td>Percentage</td>\n",
       "      <td>0</td>\n",
       "      <td>units</td>\n",
       "      <td>NaN</td>\n",
       "      <td>NaN</td>\n",
       "      <td>2.0</td>\n",
       "      <td>NaN</td>\n",
       "      <td>NaN</td>\n",
       "    </tr>\n",
       "    <tr>\n",
       "      <th>3</th>\n",
       "      <td>CAN</td>\n",
       "      <td>Canada</td>\n",
       "      <td>HO_BASE</td>\n",
       "      <td>Dwellings without basic facilities</td>\n",
       "      <td>L</td>\n",
       "      <td>Value</td>\n",
       "      <td>TOT</td>\n",
       "      <td>Total</td>\n",
       "      <td>PC</td>\n",
       "      <td>Percentage</td>\n",
       "      <td>0</td>\n",
       "      <td>units</td>\n",
       "      <td>NaN</td>\n",
       "      <td>NaN</td>\n",
       "      <td>0.2</td>\n",
       "      <td>NaN</td>\n",
       "      <td>NaN</td>\n",
       "    </tr>\n",
       "    <tr>\n",
       "      <th>4</th>\n",
       "      <td>CZE</td>\n",
       "      <td>Czech Republic</td>\n",
       "      <td>HO_BASE</td>\n",
       "      <td>Dwellings without basic facilities</td>\n",
       "      <td>L</td>\n",
       "      <td>Value</td>\n",
       "      <td>TOT</td>\n",
       "      <td>Total</td>\n",
       "      <td>PC</td>\n",
       "      <td>Percentage</td>\n",
       "      <td>0</td>\n",
       "      <td>units</td>\n",
       "      <td>NaN</td>\n",
       "      <td>NaN</td>\n",
       "      <td>0.9</td>\n",
       "      <td>NaN</td>\n",
       "      <td>NaN</td>\n",
       "    </tr>\n",
       "  </tbody>\n",
       "</table>\n",
       "</div>"
      ],
      "text/plain": [
       "  LOCATION         Country INDICATOR                           Indicator  \\\n",
       "0      AUS       Australia   HO_BASE  Dwellings without basic facilities   \n",
       "1      AUT         Austria   HO_BASE  Dwellings without basic facilities   \n",
       "2      BEL         Belgium   HO_BASE  Dwellings without basic facilities   \n",
       "3      CAN          Canada   HO_BASE  Dwellings without basic facilities   \n",
       "4      CZE  Czech Republic   HO_BASE  Dwellings without basic facilities   \n",
       "\n",
       "  MEASURE Measure INEQUALITY Inequality Unit Code        Unit  PowerCode Code  \\\n",
       "0       L   Value        TOT      Total        PC  Percentage               0   \n",
       "1       L   Value        TOT      Total        PC  Percentage               0   \n",
       "2       L   Value        TOT      Total        PC  Percentage               0   \n",
       "3       L   Value        TOT      Total        PC  Percentage               0   \n",
       "4       L   Value        TOT      Total        PC  Percentage               0   \n",
       "\n",
       "  PowerCode  Reference Period Code  Reference Period  Value Flag Codes  \\\n",
       "0     units                    NaN               NaN    1.1          E   \n",
       "1     units                    NaN               NaN    1.0        NaN   \n",
       "2     units                    NaN               NaN    2.0        NaN   \n",
       "3     units                    NaN               NaN    0.2        NaN   \n",
       "4     units                    NaN               NaN    0.9        NaN   \n",
       "\n",
       "             Flags  \n",
       "0  Estimated value  \n",
       "1              NaN  \n",
       "2              NaN  \n",
       "3              NaN  \n",
       "4              NaN  "
      ]
     },
     "execution_count": 6,
     "metadata": {},
     "output_type": "execute_result"
    }
   ],
   "source": [
    "# Load the data with PANDAS\n",
    "oecd_bli = pd.read_csv(datapath + \"oecd_bli_2015.csv\", thousands=',')\n",
    "gdp_per_capita = pd.read_csv(datapath + \"gdp_per_capita.csv\",thousands=',',delimiter='\\t',\n",
    "                             encoding='latin1', na_values=\"n/a\")\n",
    "\n",
    "# CHECK - display the first few rows of the OECD DataFrame using the head() method.\n",
    "oecd_bli.head(5)"
   ]
  },
  {
   "cell_type": "code",
   "execution_count": 7,
   "id": "9df03d15",
   "metadata": {},
   "outputs": [
    {
     "name": "stdout",
     "output_type": "stream",
     "text": [
      "['Dwellings without basic facilities' 'Housing expenditure'\n",
      " 'Rooms per person' 'Household net adjusted disposable income'\n",
      " 'Household net financial wealth' 'Employment rate' 'Job security'\n",
      " 'Long-term unemployment rate' 'Personal earnings'\n",
      " 'Quality of support network' 'Educational attainment' 'Student skills'\n",
      " 'Years in education' 'Air pollution' 'Water quality'\n",
      " 'Consultation on rule-making' 'Voter turnout' 'Life expectancy'\n",
      " 'Self-reported health' 'Life satisfaction' 'Assault rate' 'Homicide rate'\n",
      " 'Employees working very long hours'\n",
      " 'Time devoted to leisure and personal care']\n"
     ]
    }
   ],
   "source": [
    "# What are all the possible indicators of 'Better Life'?\n",
    "all_features = oecd_bli[\"Indicator\"].unique()\n",
    "print(all_features)"
   ]
  },
  {
   "cell_type": "code",
   "execution_count": 8,
   "id": "b0e00c20",
   "metadata": {},
   "outputs": [
    {
     "name": "stdout",
     "output_type": "stream",
     "text": [
      "['Australia' 'Austria' 'Belgium' 'Canada' 'Czech Republic' 'Denmark'\n",
      " 'Finland' 'France' 'Germany' 'Greece' 'Hungary' 'Iceland' 'Ireland'\n",
      " 'Italy' 'Japan' 'Korea' 'Luxembourg' 'Mexico' 'Netherlands' 'New Zealand'\n",
      " 'Norway' 'Poland' 'Portugal' 'Slovak Republic' 'Spain' 'Sweden'\n",
      " 'Switzerland' 'Turkey' 'United Kingdom' 'United States' 'Brazil' 'Chile'\n",
      " 'Estonia' 'Israel' 'Russia' 'Slovenia' 'OECD - Total']\n"
     ]
    }
   ],
   "source": [
    "# What countries are included?\n",
    "all_countries = oecd_bli[\"Country\"].unique()\n",
    "print(all_countries)"
   ]
  },
  {
   "cell_type": "code",
   "execution_count": 9,
   "id": "7456b5b6",
   "metadata": {},
   "outputs": [
    {
     "name": "stdout",
     "output_type": "stream",
     "text": [
      "IMF Data\n"
     ]
    },
    {
     "data": {
      "text/html": [
       "<div>\n",
       "<style scoped>\n",
       "    .dataframe tbody tr th:only-of-type {\n",
       "        vertical-align: middle;\n",
       "    }\n",
       "\n",
       "    .dataframe tbody tr th {\n",
       "        vertical-align: top;\n",
       "    }\n",
       "\n",
       "    .dataframe thead th {\n",
       "        text-align: right;\n",
       "    }\n",
       "</style>\n",
       "<table border=\"1\" class=\"dataframe\">\n",
       "  <thead>\n",
       "    <tr style=\"text-align: right;\">\n",
       "      <th></th>\n",
       "      <th>Country</th>\n",
       "      <th>Subject Descriptor</th>\n",
       "      <th>Units</th>\n",
       "      <th>Scale</th>\n",
       "      <th>Country/Series-specific Notes</th>\n",
       "      <th>2015</th>\n",
       "      <th>Estimates Start After</th>\n",
       "    </tr>\n",
       "  </thead>\n",
       "  <tbody>\n",
       "    <tr>\n",
       "      <th>0</th>\n",
       "      <td>Afghanistan</td>\n",
       "      <td>Gross domestic product per capita, current prices</td>\n",
       "      <td>U.S. dollars</td>\n",
       "      <td>Units</td>\n",
       "      <td>See notes for:  Gross domestic product, curren...</td>\n",
       "      <td>599.994</td>\n",
       "      <td>2013.0</td>\n",
       "    </tr>\n",
       "    <tr>\n",
       "      <th>1</th>\n",
       "      <td>Albania</td>\n",
       "      <td>Gross domestic product per capita, current prices</td>\n",
       "      <td>U.S. dollars</td>\n",
       "      <td>Units</td>\n",
       "      <td>See notes for:  Gross domestic product, curren...</td>\n",
       "      <td>3995.383</td>\n",
       "      <td>2010.0</td>\n",
       "    </tr>\n",
       "    <tr>\n",
       "      <th>2</th>\n",
       "      <td>Algeria</td>\n",
       "      <td>Gross domestic product per capita, current prices</td>\n",
       "      <td>U.S. dollars</td>\n",
       "      <td>Units</td>\n",
       "      <td>See notes for:  Gross domestic product, curren...</td>\n",
       "      <td>4318.135</td>\n",
       "      <td>2014.0</td>\n",
       "    </tr>\n",
       "    <tr>\n",
       "      <th>3</th>\n",
       "      <td>Angola</td>\n",
       "      <td>Gross domestic product per capita, current prices</td>\n",
       "      <td>U.S. dollars</td>\n",
       "      <td>Units</td>\n",
       "      <td>See notes for:  Gross domestic product, curren...</td>\n",
       "      <td>4100.315</td>\n",
       "      <td>2014.0</td>\n",
       "    </tr>\n",
       "    <tr>\n",
       "      <th>4</th>\n",
       "      <td>Antigua and Barbuda</td>\n",
       "      <td>Gross domestic product per capita, current prices</td>\n",
       "      <td>U.S. dollars</td>\n",
       "      <td>Units</td>\n",
       "      <td>See notes for:  Gross domestic product, curren...</td>\n",
       "      <td>14414.302</td>\n",
       "      <td>2011.0</td>\n",
       "    </tr>\n",
       "  </tbody>\n",
       "</table>\n",
       "</div>"
      ],
      "text/plain": [
       "               Country                                 Subject Descriptor  \\\n",
       "0          Afghanistan  Gross domestic product per capita, current prices   \n",
       "1              Albania  Gross domestic product per capita, current prices   \n",
       "2              Algeria  Gross domestic product per capita, current prices   \n",
       "3               Angola  Gross domestic product per capita, current prices   \n",
       "4  Antigua and Barbuda  Gross domestic product per capita, current prices   \n",
       "\n",
       "          Units  Scale                      Country/Series-specific Notes  \\\n",
       "0  U.S. dollars  Units  See notes for:  Gross domestic product, curren...   \n",
       "1  U.S. dollars  Units  See notes for:  Gross domestic product, curren...   \n",
       "2  U.S. dollars  Units  See notes for:  Gross domestic product, curren...   \n",
       "3  U.S. dollars  Units  See notes for:  Gross domestic product, curren...   \n",
       "4  U.S. dollars  Units  See notes for:  Gross domestic product, curren...   \n",
       "\n",
       "        2015  Estimates Start After  \n",
       "0    599.994                 2013.0  \n",
       "1   3995.383                 2010.0  \n",
       "2   4318.135                 2014.0  \n",
       "3   4100.315                 2014.0  \n",
       "4  14414.302                 2011.0  "
      ]
     },
     "execution_count": 9,
     "metadata": {},
     "output_type": "execute_result"
    }
   ],
   "source": [
    "# CHECK - display the first few rows of the IMF DataFrame using the head() method.\n",
    "print('IMF Data')\n",
    "gdp_per_capita.head(5)"
   ]
  },
  {
   "cell_type": "code",
   "execution_count": 10,
   "id": "eb070677",
   "metadata": {},
   "outputs": [
    {
     "name": "stdout",
     "output_type": "stream",
     "text": [
      "['Afghanistan' 'Albania' 'Algeria' 'Angola' 'Antigua and Barbuda'\n",
      " 'Argentina' 'Armenia' 'Australia' 'Austria' 'Azerbaijan' 'The Bahamas'\n",
      " 'Bahrain' 'Bangladesh' 'Barbados' 'Belarus' 'Belgium' 'Belize' 'Benin'\n",
      " 'Bhutan' 'Bolivia' 'Bosnia and Herzegovina' 'Botswana' 'Brazil'\n",
      " 'Brunei Darussalam' 'Bulgaria' 'Burkina Faso' 'Burundi' 'Cabo Verde'\n",
      " 'Cambodia' 'Cameroon' 'Canada' 'Central African Republic' 'Chad' 'Chile'\n",
      " 'China' 'Colombia' 'Comoros' 'Democratic Republic of the Congo'\n",
      " 'Republic of Congo' 'Costa Rica' \"Côte d'Ivoire\" 'Croatia' 'Cyprus'\n",
      " 'Czech Republic' 'Denmark' 'Djibouti' 'Dominica' 'Dominican Republic'\n",
      " 'Ecuador' 'Egypt' 'El Salvador' 'Equatorial Guinea' 'Eritrea' 'Estonia'\n",
      " 'Ethiopia' 'Fiji' 'Finland' 'France' 'Gabon' 'The Gambia' 'Georgia'\n",
      " 'Germany' 'Ghana' 'Greece' 'Grenada' 'Guatemala' 'Guinea' 'Guinea-Bissau'\n",
      " 'Guyana' 'Haiti' 'Honduras' 'Hong Kong SAR' 'Hungary' 'Iceland' 'India'\n",
      " 'Indonesia' 'Islamic Republic of Iran' 'Iraq' 'Ireland' 'Israel' 'Italy'\n",
      " 'Jamaica' 'Japan' 'Jordan' 'Kazakhstan' 'Kenya' 'Kiribati' 'Korea'\n",
      " 'Kosovo' 'Kuwait' 'Kyrgyz Republic' 'Lao P.D.R.' 'Latvia' 'Lebanon'\n",
      " 'Lesotho' 'Liberia' 'Libya' 'Lithuania' 'Luxembourg' 'FYR Macedonia'\n",
      " 'Madagascar' 'Malawi' 'Malaysia' 'Maldives' 'Mali' 'Malta'\n",
      " 'Marshall Islands' 'Mauritania' 'Mauritius' 'Mexico' 'Micronesia'\n",
      " 'Moldova' 'Mongolia' 'Montenegro' 'Morocco' 'Mozambique' 'Myanmar'\n",
      " 'Namibia' 'Nepal' 'Netherlands' 'New Zealand' 'Nicaragua' 'Niger'\n",
      " 'Nigeria' 'Norway' 'Oman' 'Pakistan' 'Palau' 'Panama' 'Papua New Guinea'\n",
      " 'Paraguay' 'Peru' 'Philippines' 'Poland' 'Portugal' 'Qatar' 'Romania'\n",
      " 'Russia' 'Rwanda' 'Samoa' 'San Marino' 'São Tomé and Príncipe'\n",
      " 'Saudi Arabia' 'Senegal' 'Serbia' 'Seychelles' 'Sierra Leone' 'Singapore'\n",
      " 'Slovak Republic' 'Slovenia' 'Solomon Islands' 'South Africa'\n",
      " 'South Sudan' 'Spain' 'Sri Lanka' 'St. Kitts and Nevis' 'St. Lucia'\n",
      " 'St. Vincent and the Grenadines' 'Sudan' 'Suriname' 'Swaziland' 'Sweden'\n",
      " 'Switzerland' 'Syria' 'Taiwan Province of China' 'Tajikistan' 'Tanzania'\n",
      " 'Thailand' 'Timor-Leste' 'Togo' 'Tonga' 'Trinidad and Tobago' 'Tunisia'\n",
      " 'Turkey' 'Turkmenistan' 'Tuvalu' 'Uganda' 'Ukraine'\n",
      " 'United Arab Emirates' 'United Kingdom' 'United States' 'Uruguay'\n",
      " 'Uzbekistan' 'Vanuatu' 'Venezuela' 'Vietnam' 'Yemen' 'Zambia' 'Zimbabwe'\n",
      " 'International Monetary Fund, World Economic Outlook Database, April 2016']\n"
     ]
    }
   ],
   "source": [
    "# Which countries are included in the IMF data?\n",
    "imf_countries = gdp_per_capita[\"Country\"].unique()\n",
    "print(imf_countries)"
   ]
  },
  {
   "attachments": {},
   "cell_type": "markdown",
   "id": "0420e305",
   "metadata": {},
   "source": [
    "---\n",
    "## Step 5: Prepare the data\n",
    "In this step we use the already created function 'prepare_country_stats' to merge both datasets together\n",
    "and create a dataframe with three columns: Country, GDP per capita, life satisfaction (or your chosen feature)"
   ]
  },
  {
   "cell_type": "code",
   "execution_count": 11,
   "id": "97dabd52",
   "metadata": {},
   "outputs": [
    {
     "data": {
      "text/html": [
       "<div>\n",
       "<style scoped>\n",
       "    .dataframe tbody tr th:only-of-type {\n",
       "        vertical-align: middle;\n",
       "    }\n",
       "\n",
       "    .dataframe tbody tr th {\n",
       "        vertical-align: top;\n",
       "    }\n",
       "\n",
       "    .dataframe thead th {\n",
       "        text-align: right;\n",
       "    }\n",
       "</style>\n",
       "<table border=\"1\" class=\"dataframe\">\n",
       "  <thead>\n",
       "    <tr style=\"text-align: right;\">\n",
       "      <th></th>\n",
       "      <th>GDP per capita</th>\n",
       "      <th>Life satisfaction</th>\n",
       "    </tr>\n",
       "    <tr>\n",
       "      <th>Country</th>\n",
       "      <th></th>\n",
       "      <th></th>\n",
       "    </tr>\n",
       "  </thead>\n",
       "  <tbody>\n",
       "    <tr>\n",
       "      <th>Russia</th>\n",
       "      <td>9054.914</td>\n",
       "      <td>6.0</td>\n",
       "    </tr>\n",
       "    <tr>\n",
       "      <th>Turkey</th>\n",
       "      <td>9437.372</td>\n",
       "      <td>5.6</td>\n",
       "    </tr>\n",
       "    <tr>\n",
       "      <th>Hungary</th>\n",
       "      <td>12239.894</td>\n",
       "      <td>4.9</td>\n",
       "    </tr>\n",
       "    <tr>\n",
       "      <th>Poland</th>\n",
       "      <td>12495.334</td>\n",
       "      <td>5.8</td>\n",
       "    </tr>\n",
       "    <tr>\n",
       "      <th>Slovak Republic</th>\n",
       "      <td>15991.736</td>\n",
       "      <td>6.1</td>\n",
       "    </tr>\n",
       "  </tbody>\n",
       "</table>\n",
       "</div>"
      ],
      "text/plain": [
       "                 GDP per capita  Life satisfaction\n",
       "Country                                           \n",
       "Russia                 9054.914                6.0\n",
       "Turkey                 9437.372                5.6\n",
       "Hungary               12239.894                4.9\n",
       "Poland                12495.334                5.8\n",
       "Slovak Republic       15991.736                6.1"
      ]
     },
     "execution_count": 11,
     "metadata": {},
     "output_type": "execute_result"
    }
   ],
   "source": [
    "# Prepare the data\n",
    "feature = \"Life satisfaction\"\n",
    "country_stats = prepare_country_stats(oecd_bli, gdp_per_capita, feature)\n",
    "\n",
    "# CHECK - display the first few rows of the country_stats DataFrame using the head() method.\n",
    "country_stats.head(5)"
   ]
  },
  {
   "attachments": {},
   "cell_type": "markdown",
   "id": "df3288a5",
   "metadata": {},
   "source": [
    "---\n",
    "## Step 6: Visulize the data\n"
   ]
  },
  {
   "cell_type": "code",
   "execution_count": 12,
   "id": "0101f115",
   "metadata": {},
   "outputs": [
    {
     "data": {
      "image/png": "[encoded data removed]",
      "text/plain": [
       "<Figure size 640x480 with 1 Axes>"
      ]
     },
     "metadata": {},
     "output_type": "display_data"
    }
   ],
   "source": [
    "# Visualize the data by plotting the GDP per capita against your chosen feature\n",
    "x = np.c_[country_stats[\"GDP per capita\"]]\n",
    "y = np.c_[country_stats[feature]]\n",
    "country_stats.plot(kind='scatter', x=\"GDP per capita\", y=feature)\n",
    "plt.show()"
   ]
  },
  {
   "attachments": {},
   "cell_type": "markdown",
   "id": "87eb77cb",
   "metadata": {},
   "source": [
    "The scatter plot graph enables us to see that although the data is 'noisy' (i.e. partly random), it looks like life  satisfaction goes up more or less linearly as the Country's GDP per capita increases.  So you decide to model life satisfaction as a linear function of GDP per capita. "
   ]
  },
  {
   "attachments": {},
   "cell_type": "markdown",
   "id": "58fc26c5",
   "metadata": {},
   "source": [
    "## Step 7: Select model\n",
    "In this example we shall compare the outputs of two types of regression models - linear and K-Nearest Neighbours (in this example k=3)"
   ]
  },
  {
   "cell_type": "code",
   "execution_count": 13,
   "id": "d8029d45",
   "metadata": {},
   "outputs": [],
   "source": [
    "# Select the models\n",
    "\n",
    "# Select the linear regression model with one attribute (GDP per capita)\n",
    "model_l = sklearn.linear_model.LinearRegression()\n",
    "\n",
    "# YOU DO YOURSELF - Select the k-nearest neighbour model (3-Nearest)\n",
    "model_k = sklearn.neighbors.KNeighborsRegressor(n_neighbors=3)"
   ]
  },
  {
   "attachments": {},
   "cell_type": "markdown",
   "id": "19eb6985",
   "metadata": {},
   "source": [
    "## Step 8: Train the model"
   ]
  },
  {
   "cell_type": "code",
   "execution_count": 14,
   "id": "6c7be47e",
   "metadata": {},
   "outputs": [
    {
     "data": {
      "text/html": [
       "<style>#sk-container-id-1 {color: black;background-color: white;}#sk-container-id-1 pre{padding: 0;}#sk-container-id-1 div.sk-toggleable {background-color: white;}#sk-container-id-1 label.sk-toggleable__label {cursor: pointer;display: block;width: 100%;margin-bottom: 0;padding: 0.3em;box-sizing: border-box;text-align: center;}#sk-container-id-1 label.sk-toggleable__label-arrow:before {content: \"▸\";float: left;margin-right: 0.25em;color: #696969;}#sk-container-id-1 label.sk-toggleable__label-arrow:hover:before {color: black;}#sk-container-id-1 div.sk-estimator:hover label.sk-toggleable__label-arrow:before {color: black;}#sk-container-id-1 div.sk-toggleable__content {max-height: 0;max-width: 0;overflow: hidden;text-align: left;background-color: #f0f8ff;}#sk-container-id-1 div.sk-toggleable__content pre {margin: 0.2em;color: black;border-radius: 0.25em;background-color: #f0f8ff;}#sk-container-id-1 input.sk-toggleable__control:checked~div.sk-toggleable__content {max-height: 200px;max-width: 100%;overflow: auto;}#sk-container-id-1 input.sk-toggleable__control:checked~label.sk-toggleable__label-arrow:before {content: \"▾\";}#sk-container-id-1 div.sk-estimator input.sk-toggleable__control:checked~label.sk-toggleable__label {background-color: #d4ebff;}#sk-container-id-1 div.sk-label input.sk-toggleable__control:checked~label.sk-toggleable__label {background-color: #d4ebff;}#sk-container-id-1 input.sk-hidden--visually {border: 0;clip: rect(1px 1px 1px 1px);clip: rect(1px, 1px, 1px, 1px);height: 1px;margin: -1px;overflow: hidden;padding: 0;position: absolute;width: 1px;}#sk-container-id-1 div.sk-estimator {font-family: monospace;background-color: #f0f8ff;border: 1px dotted black;border-radius: 0.25em;box-sizing: border-box;margin-bottom: 0.5em;}#sk-container-id-1 div.sk-estimator:hover {background-color: #d4ebff;}#sk-container-id-1 div.sk-parallel-item::after {content: \"\";width: 100%;border-bottom: 1px solid gray;flex-grow: 1;}#sk-container-id-1 div.sk-label:hover label.sk-toggleable__label {background-color: #d4ebff;}#sk-container-id-1 div.sk-serial::before {content: \"\";position: absolute;border-left: 1px solid gray;box-sizing: border-box;top: 0;bottom: 0;left: 50%;z-index: 0;}#sk-container-id-1 div.sk-serial {display: flex;flex-direction: column;align-items: center;background-color: white;padding-right: 0.2em;padding-left: 0.2em;position: relative;}#sk-container-id-1 div.sk-item {position: relative;z-index: 1;}#sk-container-id-1 div.sk-parallel {display: flex;align-items: stretch;justify-content: center;background-color: white;position: relative;}#sk-container-id-1 div.sk-item::before, #sk-container-id-1 div.sk-parallel-item::before {content: \"\";position: absolute;border-left: 1px solid gray;box-sizing: border-box;top: 0;bottom: 0;left: 50%;z-index: -1;}#sk-container-id-1 div.sk-parallel-item {display: flex;flex-direction: column;z-index: 1;position: relative;background-color: white;}#sk-container-id-1 div.sk-parallel-item:first-child::after {align-self: flex-end;width: 50%;}#sk-container-id-1 div.sk-parallel-item:last-child::after {align-self: flex-start;width: 50%;}#sk-container-id-1 div.sk-parallel-item:only-child::after {width: 0;}#sk-container-id-1 div.sk-dashed-wrapped {border: 1px dashed gray;margin: 0 0.4em 0.5em 0.4em;box-sizing: border-box;padding-bottom: 0.4em;background-color: white;}#sk-container-id-1 div.sk-label label {font-family: monospace;font-weight: bold;display: inline-block;line-height: 1.2em;}#sk-container-id-1 div.sk-label-container {text-align: center;}#sk-container-id-1 div.sk-container {/* jupyter's `normalize.less` sets `[hidden] { display: none; }` but bootstrap.min.css set `[hidden] { display: none !important; }` so we also need the `!important` here to be able to override the default hidden behavior on the sphinx rendered scikit-learn.org. See: https://github.com/scikit-learn/scikit-learn/issues/21755 */display: inline-block !important;position: relative;}#sk-container-id-1 div.sk-text-repr-fallback {display: none;}</style><div id=\"sk-container-id-1\" class=\"sk-top-container\"><div class=\"sk-text-repr-fallback\"><pre>KNeighborsRegressor(n_neighbors=3)</pre><b>In a Jupyter environment, please rerun this cell to show the HTML representation or trust the notebook. <br />On GitHub, the HTML representation is unable to render, please try loading this page with nbviewer.org.</b></div><div class=\"sk-container\" hidden><div class=\"sk-item\"><div class=\"sk-estimator sk-toggleable\"><input class=\"sk-toggleable__control sk-hidden--visually\" id=\"sk-estimator-id-1\" type=\"checkbox\" checked><label for=\"sk-estimator-id-1\" class=\"sk-toggleable__label sk-toggleable__label-arrow\">KNeighborsRegressor</label><div class=\"sk-toggleable__content\"><pre>KNeighborsRegressor(n_neighbors=3)</pre></div></div></div></div></div>"
      ],
      "text/plain": [
       "KNeighborsRegressor(n_neighbors=3)"
      ]
     },
     "execution_count": 14,
     "metadata": {},
     "output_type": "execute_result"
    }
   ],
   "source": [
    "# Train the Linear regression model\n",
    "model_l.fit(x,y)\n",
    "\n",
    "# YOU DO YOURSELF Train the K-nearest neighbour model\n",
    "model_k.fit(x,y)"
   ]
  },
  {
   "attachments": {},
   "cell_type": "markdown",
   "id": "a13cf33a",
   "metadata": {},
   "source": [
    "## Step 9: Make a prediction\n",
    "This step is called <i>inference</i>\n",
    "\n",
    "For example, if we want to know how happy Cypriot's are but the OECD data does not have the answer, we can use our models to make a good prediction.\n",
    "\n",
    "**i. First look up Cyprus's GDP per capita**"
   ]
  },
  {
   "cell_type": "code",
   "execution_count": 21,
   "id": "c383f610",
   "metadata": {},
   "outputs": [
    {
     "name": "stdout",
     "output_type": "stream",
     "text": [
      "Cyprus GDP per capita =  22587.49\n"
     ]
    }
   ],
   "source": [
    "# look up this value from the IMF data -- NB: as this is a Pandas dataframe we use the pandas library\n",
    "cyprus_gdp_per_capita = gdp_per_capita.at['Cyprus','GDP per capita']\n",
    "print('Cyprus GDP per capita = ', cyprus_gdp_per_capita)"
   ]
  },
  {
   "cell_type": "code",
   "execution_count": 17,
   "id": "bb0c9719",
   "metadata": {},
   "outputs": [
    {
     "name": "stdout",
     "output_type": "stream",
     "text": [
      "[[5.96244744]]\n"
     ]
    }
   ],
   "source": [
    "# Make a prediction for Cyprus using Linear Regression Model\n",
    "X_new = [[cyprus_gdp_per_capita]]  # Cyprus' GDP per capita\n",
    "\n",
    "cyprus_prediction = model_l.predict(X_new)\n",
    "print(model_l.predict(X_new)) # outputs [[ 5.96242338]]"
   ]
  },
  {
   "cell_type": "code",
   "execution_count": 18,
   "id": "a3bcccb4",
   "metadata": {},
   "outputs": [
    {
     "name": "stdout",
     "output_type": "stream",
     "text": [
      "[[5.76666667]]\n"
     ]
    }
   ],
   "source": [
    "\n",
    "# Make a prediction for Cyprus using the 3-Nearest Neighbors Regression model\n",
    "#cyprus_prediction = model_k.predict(X_new)\n",
    "print(model_k.predict(X_new)) # outputs [[5.76666667]]"
   ]
  },
  {
   "cell_type": "code",
   "execution_count": 19,
   "id": "5e587630",
   "metadata": {},
   "outputs": [
    {
     "data": {
      "image/png": "[encoded data removed]",
      "text/plain": [
       "<Figure size 640x480 with 1 Axes>"
      ]
     },
     "metadata": {},
     "output_type": "display_data"
    }
   ],
   "source": [
    "# plot all values from IMF\n",
    "x1 = np.c_[country_stats[\"GDP per capita\"]]\n",
    "y1 = np.c_[country_stats[feature]]\n",
    "# plot cyprus' position\n",
    "x2 = cyprus_gdp_per_capita\n",
    "y2 = cyprus_prediction\n",
    "plt.plot(x1,y1, 'bo')\n",
    "plt.plot(x2,y2, 'rs')\n",
    "plt.xlabel('GDP per capita')\n",
    "plt.ylabel(feature)\n",
    "plt.legend([\"Countries in BLI\",\"Prediction for Cyprus\"])\n",
    "plt.show()"
   ]
  },
  {
   "cell_type": "code",
   "execution_count": null,
   "id": "6b57bcd2",
   "metadata": {},
   "outputs": [],
   "source": []
  }
 ],
 "metadata": {
  "kernelspec": {
   "display_name": "Python 3 (ipykernel)",
   "language": "python",
   "name": "python3"
  },
  "language_info": {
   "codemirror_mode": {
    "name": "ipython",
    "version": 3
   },
   "file_extension": ".py",
   "mimetype": "text/x-python",
   "name": "python",
   "nbconvert_exporter": "python",
   "pygments_lexer": "ipython3",
   "version": "3.10.9"
  }
 },
 "nbformat": 4,
 "nbformat_minor": 5
}
